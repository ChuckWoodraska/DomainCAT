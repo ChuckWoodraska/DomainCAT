{
 "cells": [
  {
   "cell_type": "markdown",
   "metadata": {},
   "source": [
    "# DomainCAT: Domain Connectivity Analysis Tool\n",
    "\n",
    "### Analyzing the domain to domain connectivity of an Iris API Search"
   ]
  },
  {
   "cell_type": "code",
   "execution_count": null,
   "metadata": {},
   "outputs": [],
   "source": [
    "# Run This First: imports all the helper functions and sets stuff up\n",
    "%run domain_cat_module.py\n",
    "\n",
    "print(\"DomainCAT is ready to go\")"
   ]
  },
  {
   "cell_type": "markdown",
   "metadata": {},
   "source": [
    "## Iris REST API Credentials"
   ]
  },
  {
   "cell_type": "code",
   "execution_count": null,
   "metadata": {},
   "outputs": [],
   "source": [
    "api_username_ui = widgets.Text(placeholder='Iris API Username', description='Username:', layout={'width': '500px'}, value=\"\")\n",
    "api_pw_ui = widgets.Password(placeholder='Iris API Password', description='Password:', layout={'width': '500px'}, value=\"\")\n",
    "widgets.VBox([api_username_ui, api_pw_ui])"
   ]
  },
  {
   "cell_type": "markdown",
   "metadata": {},
   "source": [
    "## Query Domain Data From Iris Investigate API\n",
    "\n",
    "Enter either a list of return delimited domains into the Domains text box, _OR_ an Iris search hash into the hash text box.\n",
    "\n",
    "Note: if both a list of domains _AND_ a search hash is entered, the liast of domains will be queried and the search hash will be ignored"
   ]
  },
  {
   "cell_type": "code",
   "execution_count": null,
   "metadata": {},
   "outputs": [],
   "source": [
    "domain_list_ui = widgets.Textarea(placeholder='Enter list of domains', description='Domains:', layout={'height': '300px', 'width': '700px'}) \n",
    "search_hash_ui = widgets.Text(placeholder='Enter list of domains', description='Hash:', layout={'width': '700px'})\n",
    "show_iris_query_ui(domain_list_ui, search_hash_ui)"
   ]
  },
  {
   "cell_type": "code",
   "execution_count": null,
   "metadata": {},
   "outputs": [],
   "source": [
    "# Data Loading Config\n",
    "query_api = True\n",
    "save_search_to_disk = False\n",
    "json_file_path = \"data/dash_gov_dot_us.json\"\n",
    "\n",
    "if query_api:\n",
    "    iris_results = query_iris_rest_api(api_username_ui, api_pw_ui, domain_list_ui, search_hash_ui)\n",
    "    print(f'Iris API returned {len(iris_results)} domains')\n",
    "\n",
    "    # save search results to disk to be used later\n",
    "    if save_search_to_disk:\n",
    "        with open(json_file_path, 'w') as f:\n",
    "            json.dump(iris_results, f)\n",
    "else:\n",
    "    with open(json_file_path) as json_data:\n",
    "        iris_results = json.loads(json_data.read())\n",
    "\n",
    "    print(f'Loaded {len(iris_results)} domains from {json_file_path}')"
   ]
  },
  {
   "cell_type": "markdown",
   "metadata": {},
   "source": [
    "## DomainCAT Configuration\n",
    "\n",
    "Please refer to the DomainCAT documentation for details about these configuration options"
   ]
  },
  {
   "cell_type": "code",
   "execution_count": null,
   "metadata": {},
   "outputs": [],
   "source": [
    "config = Config()\n",
    "\n",
    "# only analyze domains that are active (currently registered)\n",
    "config.active_domains_only = True\n",
    "\n",
    "# config for pivoting on matching substrings. Only matching substrings this long or longer will be used to create a pivot\n",
    "config.longest_common_substring = 6\n",
    "\n",
    "# List of substrings to ignore when creating pivots by matching substrings\n",
    "config.ignore_substrings = []\n",
    "\n",
    "# use the pivot count to scale how important the pivot is during graph layout. Smaller pivot counts is more influence, and vice versa\n",
    "config.scale_edge_strength_by_pivot_count = True\n",
    "\n",
    "# Global pivot count threshold. Any pivot with more than this value is discarded. sys.maxsize effectivly keeps all pivots\n",
    "config.global_count_threshold = sys.maxsize\n",
    "\n",
    "# The smallest pivot count size to use. Default of 2 means no pivots are filtered out because it's count is too low\n",
    "config.min_pivot_size = 2\n",
    "\n",
    "# theoretical max pivot size for calculating edge strengths\n",
    "config.max_domains = 100000000\n",
    "\n",
    "# If True DomainCAT will print out some debug info while building the connected graph of domains\n",
    "config.print_debug_output = False"
   ]
  },
  {
   "cell_type": "markdown",
   "metadata": {},
   "source": [
    "## Choose Which Pivots To Use & Build Domain Graph\n"
   ]
  },
  {
   "cell_type": "code",
   "execution_count": null,
   "metadata": {},
   "outputs": [],
   "source": [
    "pivot_category_config = {\n",
    "    \"adsense\",\n",
    "    \"google_analytics\",\n",
    "    \"create_date\",\n",
    "    \"redirect_domain\",\n",
    "    \"registrar\",\n",
    "    \"ip_address\",\n",
    "    \"ip_country_code\",\n",
    "    \"ip_isp\",\n",
    "    \"ip_asn\",\n",
    "    \"ssl_hash\",\n",
    "    \"ssl_subject\",\n",
    "    \"ssl_org\",\n",
    "    \"ssl_email\",\n",
    "    \n",
    "#     # Note: commented out ns_host and ns_ip because they double count ns connectedness when used with ns_domain. \n",
    "    \"ns_domain\",\n",
    "#     \"ns_host\",  \n",
    "    \"ns_ip\",  \n",
    "    \n",
    "#     # Note: commented out mx_host and mx_ip because they double counts mx connectedness when used with mx_domain    \n",
    "    \"mx_domain\",\n",
    "#     \"mx_host\",\n",
    "    \"mx_ip\", \n",
    "    \n",
    "    \"tld\",\n",
    "    \"longest_common_substring\",\n",
    "}\n",
    "\n",
    "# Build the domain pivot graph structure\n",
    "config.pivot_category_config = pivot_category_config\n",
    "graph, pivot_categories, trimmed_domains = build_domain_pivot_graph(iris_results, config)"
   ]
  },
  {
   "cell_type": "markdown",
   "metadata": {},
   "source": [
    "## Trimmed Domains"
   ]
  },
  {
   "cell_type": "code",
   "execution_count": null,
   "metadata": {},
   "outputs": [],
   "source": [
    "print_trimmed_domains = True\n",
    "if print_trimmed_domains:\n",
    "    if len(trimmed_domains[\"unconnected\"]) > 0:\n",
    "        print(\"trimmed unconnected domains:\")\n",
    "        for domain in trimmed_domains[\"unconnected\"]: print(f\"  {domain}\")\n",
    "    if len(trimmed_domains[\"create_date\"]) > 0:\n",
    "        print(\"\\ntrimmed domains with only create date pivot:\")\n",
    "        for domain in trimmed_domains[\"create_date\"]: print(f\"  {domain}\")"
   ]
  },
  {
   "cell_type": "markdown",
   "metadata": {},
   "source": [
    "## Draw the Domain Graph in an Interactive 3D Layout"
   ]
  },
  {
   "cell_type": "code",
   "execution_count": null,
   "metadata": {},
   "outputs": [],
   "source": [
    "build_3d_graph_layout(graph)"
   ]
  },
  {
   "cell_type": "code",
   "execution_count": null,
   "metadata": {},
   "outputs": [],
   "source": [
    "build_3d_graph_layout(graph)"
   ]
  },
  {
   "cell_type": "code",
   "execution_count": null,
   "metadata": {},
   "outputs": [],
   "source": [
    "build_3d_graph_layout(graph)"
   ]
  },
  {
   "cell_type": "markdown",
   "metadata": {},
   "source": [
    "## Calculate & Show Pivot Statistics"
   ]
  },
  {
   "cell_type": "code",
   "execution_count": null,
   "metadata": {},
   "outputs": [],
   "source": [
    "# Calculate a bunch of pivot statistics to see how well connected all the domains in the search result are\n",
    "calc_pivot_stats(graph, pivot_categories)"
   ]
  },
  {
   "cell_type": "markdown",
   "metadata": {},
   "source": [
    "## Draw the Domain Graph in an Interactive 2D Layout"
   ]
  },
  {
   "cell_type": "code",
   "execution_count": null,
   "metadata": {},
   "outputs": [],
   "source": [
    "# calculate the pivots shared in commmon across all selected domains\n",
    "shared_pivots = {}\n",
    "def get_2d_shared_pivots(graph, selected_domains):\n",
    "    global shared_pivots\n",
    "    shared_pivots = get_shared_pivots(graph, selected_domains)\n",
    "    \n",
    "build_2d_graph_layout(graph, get_2d_shared_pivots)"
   ]
  },
  {
   "cell_type": "markdown",
   "metadata": {},
   "source": [
    "## Heatmap of which pivots connect the most domains together: by pivot category"
   ]
  },
  {
   "cell_type": "code",
   "execution_count": null,
   "metadata": {},
   "outputs": [],
   "source": [
    "if len(shared_pivots) == 0:\n",
    "    print(\"Select a set of domains in the 2D graph\")\n",
    "else:\n",
    "    create_pivot_heatmaps(shared_pivots)"
   ]
  },
  {
   "cell_type": "markdown",
   "metadata": {},
   "source": [
    "## Removing domains from the graph\n",
    "\n",
    "Sometimes you find disconnected domains in the 3D graph visualization that make pivoting the viz really annoying. To remove domains from the graph, enter the domain(s) you want removed in the text box below and run the second cell. This will remove the domains from the graph structure without having to requery the data.\n",
    "\n",
    "After you do this, re-run the 3D viz and the domains should be gone."
   ]
  },
  {
   "cell_type": "code",
   "execution_count": null,
   "metadata": {},
   "outputs": [],
   "source": [
    "remove_domains_ui = widgets.Textarea(placeholder='Enter domains to remove from graph', description='Domains:', layout={'height': '100px', 'width': '700px'}) \n",
    "remove_domains_ui"
   ]
  },
  {
   "cell_type": "code",
   "execution_count": null,
   "metadata": {},
   "outputs": [],
   "source": [
    "# Run this to remove the domains in the above text box from the graph\n",
    "graph = remove_domains_from_graph(graph, remove_domains_ui)"
   ]
  },
  {
   "cell_type": "code",
   "execution_count": null,
   "metadata": {},
   "outputs": [],
   "source": []
  },
  {
   "cell_type": "code",
   "execution_count": null,
   "metadata": {},
   "outputs": [],
   "source": []
  },
  {
   "cell_type": "code",
   "execution_count": null,
   "metadata": {},
   "outputs": [],
   "source": []
  }
 ],
 "metadata": {
  "kernelspec": {
   "display_name": "Python 3",
   "language": "python",
   "name": "python3"
  },
  "language_info": {
   "codemirror_mode": {
    "name": "ipython",
    "version": 3
   },
   "file_extension": ".py",
   "mimetype": "text/x-python",
   "name": "python",
   "nbconvert_exporter": "python",
   "pygments_lexer": "ipython3",
   "version": "3.6.10"
  }
 },
 "nbformat": 4,
 "nbformat_minor": 4
}
