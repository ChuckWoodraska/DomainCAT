{
 "cells": [
  {
   "cell_type": "markdown",
   "source": [
    "# InfraCAT: Infrastructure Connectivity Analysis Tool\n",
    "\n",
    "### Analyzing the infrastructure connectivity of an Iris API Search"
   ],
   "metadata": {
    "collapsed": false
   }
  },
  {
   "cell_type": "code",
   "execution_count": null,
   "outputs": [],
   "source": [
    "# Run This First: imports all the helper functions and sets stuff up\n",
    "%run infra_cat_module.py\n",
    "\n",
    "print(\"InfraCAT is ready to go\")"
   ],
   "metadata": {
    "collapsed": false,
    "pycharm": {
     "name": "#%%\n"
    }
   }
  },
  {
   "cell_type": "markdown",
   "source": [
    "## Iris REST API Credentials"
   ],
   "metadata": {
    "collapsed": false
   }
  },
  {
   "cell_type": "code",
   "execution_count": null,
   "outputs": [],
   "source": [
    "api_username_ui = widgets.Text(placeholder='Iris API Username', description='Username:', layout={'width': '500px'}, value=\"\")\n",
    "api_pw_ui = widgets.Password(placeholder='Iris API Password', description='Password:', layout={'width': '500px'}, value=\"\")\n",
    "widgets.VBox([api_username_ui, api_pw_ui])"
   ],
   "metadata": {
    "collapsed": false,
    "pycharm": {
     "name": "#%%\n"
    }
   }
  },
  {
   "cell_type": "markdown",
   "source": [
    "## Query Domain Data From Iris Investigate API\n",
    "\n",
    "Enter either a list of return delimited domains into the Domains text box, _OR_ an Iris search hash into the hash text box.\n",
    "\n",
    "Note: if both a list of domains _AND_ a search hash is entered, the list of domains will be queried and the search hash will be ignored"
   ],
   "metadata": {
    "collapsed": false
   }
  },
  {
   "cell_type": "code",
   "execution_count": null,
   "outputs": [],
   "source": [
    "domain_list_ui = widgets.Textarea(placeholder='Enter list of domains', description='Domains:', layout={'height': '300px', 'width': '700px'})\n",
    "search_hash_ui = widgets.Text(placeholder='Enter list of domains', description='Hash:', layout={'width': '700px'})\n",
    "show_iris_query_ui(domain_list_ui, search_hash_ui)"
   ],
   "metadata": {
    "collapsed": false,
    "pycharm": {
     "name": "#%%\n"
    }
   }
  },
  {
   "cell_type": "code",
   "execution_count": null,
   "outputs": [],
   "source": [
    "config = Config()\n",
    "\n",
    "# exclude certain infrastructure from graph\n",
    "# config.exclude_list = [\"EMAIL DOMAIN\"]\n",
    "config.exclude_list = []\n",
    "\n",
    "# only show infrastructure that is under the pivot threshold\n",
    "config.pivot_threshold = 500\n",
    "\n",
    "# Minimum should be 1 which means more than one domain has to show up in an edge\n",
    "config.edge_threshold = 1\n",
    "\n",
    "# set whether or no to set node size to the unique number of domains in the edge\n",
    "config.node_size = True"
   ],
   "metadata": {
    "collapsed": false,
    "pycharm": {
     "name": "#%%\n"
    }
   }
  },
  {
   "cell_type": "code",
   "execution_count": null,
   "outputs": [],
   "source": [
    "query_api = False\n",
    "save_search_to_disk = False\n",
    "json_file_path = \"data/dash_gov_dot_us.json\"\n",
    "\n",
    "if query_api:\n",
    "    iris_results = query_iris_rest_api(api_username_ui, api_pw_ui, domain_list_ui, search_hash_ui)\n",
    "    print(f'Iris API returned {len(iris_results)} domains')\n",
    "\n",
    "    # save search results to disk to be used later\n",
    "    if save_search_to_disk:\n",
    "        with open(json_file_path, 'w') as f:\n",
    "            json.dump(iris_results, f)\n",
    "else:\n",
    "    with open(json_file_path) as json_data:\n",
    "        iris_results = json.loads(json_data.read())\n",
    "\n",
    "    print(f'Loaded {len(iris_results)} domains from {json_file_path}')"
   ],
   "metadata": {
    "collapsed": false,
    "pycharm": {
     "name": "#%%\n"
    }
   }
  },
  {
   "cell_type": "code",
   "execution_count": null,
   "outputs": [],
   "source": [
    "graph, config = build_graph(iris_results, config)\n",
    "\n",
    "print(len(graph.nodes))"
   ],
   "metadata": {
    "collapsed": false,
    "pycharm": {
     "name": "#%%\n"
    }
   }
  },
  {
   "cell_type": "code",
   "execution_count": null,
   "outputs": [],
   "source": [
    "build_3d_graph_layout(graph, config)"
   ],
   "metadata": {
    "collapsed": false,
    "pycharm": {
     "name": "#%%\n"
    }
   }
  },
  {
   "cell_type": "code",
   "execution_count": null,
   "outputs": [],
   "source": [
    "query_api = False\n",
    "save_search_to_disk = False\n",
    "json_file_path = \"data/cloudatlas.json\"\n",
    "\n",
    "if query_api:\n",
    "    iris_results = query_iris_rest_api(api_username_ui, api_pw_ui, domain_list_ui, search_hash_ui)\n",
    "    print(f'Iris API returned {len(iris_results)} domains')\n",
    "\n",
    "    # save search results to disk to be used later\n",
    "    if save_search_to_disk:\n",
    "        with open(json_file_path, 'w') as f:\n",
    "            json.dump(iris_results, f)\n",
    "else:\n",
    "    with open(json_file_path) as json_data:\n",
    "        iris_results = json.loads(json_data.read())\n",
    "\n",
    "    print(f'Loaded {len(iris_results)} domains from {json_file_path}')\n",
    "graph, config = build_graph(iris_results, config)\n",
    "\n",
    "print(len(graph.nodes))\n",
    "\n",
    "build_3d_graph_layout(graph, config)"
   ],
   "metadata": {
    "collapsed": false,
    "pycharm": {
     "name": "#%%\n"
    }
   }
  },
  {
   "cell_type": "code",
   "execution_count": null,
   "outputs": [],
   "source": [
    "query_api = False\n",
    "save_search_to_disk = False\n",
    "json_file_path = \"data/twitter.json\"\n",
    "\n",
    "if query_api:\n",
    "    iris_results = query_iris_rest_api(api_username_ui, api_pw_ui, domain_list_ui, search_hash_ui)\n",
    "    print(f'Iris API returned {len(iris_results)} domains')\n",
    "\n",
    "    # save search results to disk to be used later\n",
    "    if save_search_to_disk:\n",
    "        with open(json_file_path, 'w') as f:\n",
    "            json.dump(iris_results, f)\n",
    "else:\n",
    "    with open(json_file_path) as json_data:\n",
    "        iris_results = json.loads(json_data.read())\n",
    "\n",
    "    print(f'Loaded {len(iris_results)} domains from {json_file_path}')\n",
    "graph, config = build_graph(iris_results, config)\n",
    "\n",
    "print(len(graph.nodes))\n",
    "\n",
    "build_3d_graph_layout(graph, config)"
   ],
   "metadata": {
    "collapsed": false,
    "pycharm": {
     "name": "#%%\n"
    }
   }
  },
  {
   "cell_type": "code",
   "execution_count": null,
   "outputs": [],
   "source": [],
   "metadata": {
    "collapsed": false,
    "pycharm": {
     "name": "#%%\n"
    }
   }
  }
 ],
 "metadata": {
  "kernelspec": {
   "display_name": "Python 3",
   "language": "python",
   "name": "python3"
  },
  "language_info": {
   "codemirror_mode": {
    "name": "ipython",
    "version": 2
   },
   "file_extension": ".py",
   "mimetype": "text/x-python",
   "name": "python",
   "nbconvert_exporter": "python",
   "pygments_lexer": "ipython2",
   "version": "2.7.6"
  }
 },
 "nbformat": 4,
 "nbformat_minor": 0
}